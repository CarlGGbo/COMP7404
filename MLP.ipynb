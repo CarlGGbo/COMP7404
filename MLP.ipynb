{
  "nbformat": 4,
  "nbformat_minor": 0,
  "metadata": {
    "colab": {
      "provenance": []
    },
    "kernelspec": {
      "name": "python3",
      "display_name": "Python 3"
    },
    "language_info": {
      "name": "python"
    }
  },
  "cells": [
    {
      "cell_type": "markdown",
      "source": [
        "# import package\n",
        "\n"
      ],
      "metadata": {
        "id": "_-utJYzw2Ayq"
      }
    },
    {
      "cell_type": "code",
      "source": [
        "import torch\n",
        "import torchvision\n",
        "import torchvision.transforms as transforms\n",
        "import torch.utils.data as data\n",
        "import matplotlib.pyplot as plt\n",
        "import numpy as np\n",
        "from pytorch_logit_logic import actfun_name2factory\n",
        "from torch import nn\n",
        "import os\n",
        "from tqdm import tqdm\n",
        "from torchsummary import summary "
      ],
      "metadata": {
        "id": "lUDdSWpBkGvf"
      },
      "execution_count": 14,
      "outputs": []
    },
    {
      "cell_type": "code",
      "source": [
        "def imshow(img):\n",
        "    img = img / 2 + 0.5     # unnormalize\n",
        "    npimg = img.numpy()\n",
        "    plt.imshow(np.transpose(npimg, (1, 2, 0)))\n",
        "    plt.show()"
      ],
      "metadata": {
        "id": "2dDjTmBCtpvi"
      },
      "execution_count": 15,
      "outputs": []
    },
    {
      "cell_type": "markdown",
      "source": [
        "# Set different Path"
      ],
      "metadata": {
        "id": "zBxVHc142j29"
      }
    },
    {
      "cell_type": "code",
      "source": [
        "batch_size = 256\n",
        "epochs = 10\n",
        "save_max_path = '/content/MLP_model/max_model.ckpt'\n",
        "save_ail_or_path = '/content/MLP_model/ail_or_model.ckpt'\n",
        "save_nail_or_path = '/content/MLP_model/nail_or_model.ckpt'\n",
        "save_ReLU_path = '/content/MLP_model/ReLUmodel.ckpt'\n",
        "save_ail_xnor_path = '/content/MLP_model/ail_xnor_model.ckpt'\n",
        "save_ail_or_xnor_dup_path = '/content/MLP_model/ail_or_xnor_dup_model.ckpt'"
      ],
      "metadata": {
        "id": "esIpR8DOsBgx"
      },
      "execution_count": 16,
      "outputs": []
    },
    {
      "cell_type": "markdown",
      "source": [
        "## Build Model"
      ],
      "metadata": {
        "id": "gtGTOKjctsEQ"
      }
    },
    {
      "cell_type": "code",
      "source": [
        "class MLP(nn.Module):\n",
        "    def __init__(self,in_channels,out_channels,n_layer=1,hidden_width=None,actfun=\"ReLU\",actfun_k=None):\n",
        "        super().__init__()\n",
        "        # Create a factory that generates objects that perform this activation\n",
        "        actfun_factory = actfun_name2factory(actfun, k=actfun_k)\n",
        "        _actfun = actfun_factory()\n",
        "        divisor = getattr(_actfun, \"k\", 1)\n",
        "        feature_factor = getattr(_actfun, \"feature_factor\", 1)\n",
        "\n",
        "        if hidden_width is None:\n",
        "            hidden_width = in_channels\n",
        "\n",
        "        # Ensure the hidden width is divisible by the divisor\n",
        "        hidden_width = int(int(round(hidden_width / divisor)) * divisor)\n",
        "\n",
        "        layers = []\n",
        "        n_current = in_channels\n",
        "        for i_layer in range(0, n_layer):\n",
        "            layer = []\n",
        "            layer.append(nn.Linear(n_current, hidden_width))\n",
        "            n_current = hidden_width\n",
        "            layer.append(actfun_factory())\n",
        "            n_current = int(round(n_current * feature_factor))\n",
        "            layers.append(nn.Sequential(*layer))\n",
        "        self.layers = nn.Sequential(*layers)\n",
        "        self.classifier = nn.Linear(n_current, out_channels)\n",
        "\n",
        "    def forward(self, x):\n",
        "        x = self.layers(x)\n",
        "        x = self.classifier(x)\n",
        "        return x"
      ],
      "metadata": {
        "id": "A7MHw3riun6o"
      },
      "execution_count": 17,
      "outputs": []
    },
    {
      "cell_type": "markdown",
      "source": [
        "## Train"
      ],
      "metadata": {
        "id": "pJWNGm2C2rw7"
      }
    },
    {
      "cell_type": "code",
      "source": [
        "def train(train_loader, valid_loader, model, path):\n",
        "  best_loss = float('inf')\n",
        "  criterion = nn.CrossEntropyLoss() \n",
        "  optimizer = torch.optim.Adam(model.parameters())\n",
        "  if not os.path.isdir('/content/MLP_model'):\n",
        "    os.mkdir('/content/MLP_model')\n",
        "\n",
        "  train_loss_record = []\n",
        "  valid_loss_record = []\n",
        "  train_loss_record_epoch = []\n",
        "  valid_loss_record_epoch = []\n",
        "  accs = []\n",
        "  for epoch in range(epochs):\n",
        "    model.train()      \n",
        "    train_bar = tqdm(trainloader, position = 0, leave = True)\n",
        "    for x, y in train_bar:\n",
        "      optimizer.zero_grad()       \n",
        "      pred = model(x.flatten(start_dim=1))\n",
        "      loss = criterion(pred, y)\n",
        "      loss.backward()           \n",
        "      optimizer.step()          \n",
        "      train_loss_record.append(loss.detach().item())\n",
        "      \n",
        "      # display current epoch\n",
        "      train_bar.set_description(f'Epoch[{epoch+1}/{epochs}]')\n",
        "      train_bar.set_postfix({'loss': loss.detach().item()})\n",
        "        \n",
        "    mean_train_loss = sum(train_loss_record) / len(train_loss_record)\n",
        "    train_loss_record_epoch.append(mean_train_loss)\n",
        "    model.eval()\n",
        "    for x, y in validloader:\n",
        "      with torch.no_grad():\n",
        "          pred = model(x.flatten(start_dim=1))\n",
        "          loss = criterion(pred, y)\n",
        "      valid_loss_record.append(loss)\n",
        "    mean_valid_loss = sum(valid_loss_record) / len(valid_loss_record)\n",
        "    valid_loss_record_epoch.append(mean_valid_loss)\n",
        "\n",
        "    acc = 0\n",
        "    length = 0\n",
        "\n",
        "    for x, y in tqdm(testloader):    \n",
        "        length += len(y)                \n",
        "        with torch.no_grad():\n",
        "            pred = model(x.flatten(start_dim=1))               \n",
        "            _, val_pred = torch.max(pred, 1)\n",
        "            acc += torch.sum(val_pred == y)\n",
        "    \n",
        "    accs.append(acc/length)\n",
        "    if epoch%5 == 0:\n",
        "      print(f'Epoch [{epoch+1}/{epochs}]: Train loss: {mean_train_loss:.4f}, Valid loss: {mean_valid_loss:.4f}')\n",
        "    \n",
        "    if mean_valid_loss < best_loss:\n",
        "      best_loss = mean_valid_loss\n",
        "      torch.save(model.state_dict(), path)\n",
        "  return train_loss_record_epoch, valid_loss_record_epoch, accs"
      ],
      "metadata": {
        "id": "ksGfvcBSsoRB"
      },
      "execution_count": 18,
      "outputs": []
    },
    {
      "cell_type": "markdown",
      "source": [
        "## Evaluate"
      ],
      "metadata": {
        "id": "JvKV32Xf2t_o"
      }
    },
    {
      "cell_type": "code",
      "source": [
        "def evaluate(model_name, save_path, testloader):\n",
        "  model = MLP(in_channels=784, out_channels=10, n_layer=2,actfun=model_name)\n",
        "  model.load_state_dict(torch.load(save_path))\n",
        "  model.eval() # Set your model to evaluation mode.\n",
        "  acc = 0\n",
        "  length = 0\n",
        "\n",
        "  for x, y in tqdm(testloader):    \n",
        "      length += len(y)                \n",
        "      with torch.no_grad():\n",
        "          # print(y)\n",
        "          pred = model(x.flatten(start_dim=1))               \n",
        "          _, val_pred = torch.max(pred, 1)\n",
        "          # print(val_pred)\n",
        "          acc += torch.sum(val_pred == y)\n",
        "  \n",
        "  return acc/length"
      ],
      "metadata": {
        "id": "mL5cC7ytFmQA"
      },
      "execution_count": 19,
      "outputs": []
    },
    {
      "cell_type": "markdown",
      "source": [
        "## Load Data"
      ],
      "metadata": {
        "id": "TSx022tstxEk"
      }
    },
    {
      "cell_type": "code",
      "source": [
        "train_set = torchvision.datasets.MNIST(root='./data', train=True, download=True, transform=transforms.ToTensor())\n",
        "test_set = torchvision.datasets.MNIST(root='./data', train=False, download=True, transform=transforms.ToTensor())\n",
        "\n",
        "train_len = int(len(train_set)*0.7)\n",
        "valid_len = len(train_set) - train_len\n",
        "train_set, valid_set = data.random_split(train_set, [train_len, valid_len])\n",
        "\n",
        "trainloader = torch.utils.data.DataLoader(train_set, batch_size=batch_size, shuffle=True, num_workers=2)\n",
        "validloader = torch.utils.data.DataLoader(valid_set, batch_size=batch_size, shuffle=False, num_workers=2)\n",
        "testloader = torch.utils.data.DataLoader(test_set, batch_size=batch_size, shuffle=False, num_workers=2)\n",
        "print(len(train_set), len(valid_set), len(test_set))"
      ],
      "metadata": {
        "colab": {
          "base_uri": "https://localhost:8080/"
        },
        "id": "X2MEv85utv76",
        "outputId": "9702952c-0615-49ff-f59c-a64876e8a4eb"
      },
      "execution_count": 20,
      "outputs": [
        {
          "output_type": "stream",
          "name": "stdout",
          "text": [
            "42000 18000 10000\n"
          ]
        }
      ]
    },
    {
      "cell_type": "markdown",
      "source": [
        "## Build 6 models"
      ],
      "metadata": {
        "id": "J_Nis8bXFil8"
      }
    },
    {
      "cell_type": "code",
      "source": [
        "nail_or_model = MLP(in_channels=784, out_channels=10, n_layer=2,actfun=\"nail_or\")\n",
        "ail_xnor_model = MLP(in_channels=784, out_channels=10, n_layer=2,actfun=\"ail_xnor\")\n",
        "ReLU_model = MLP(in_channels=784, out_channels=10, n_layer=2, actfun='ReLU')\n",
        "\n",
        "max_model = MLP(in_channels=784, out_channels=10, n_layer=2,actfun=\"max\")\n",
        "ail_or_model = MLP(in_channels=784, out_channels=10, n_layer=2,actfun=\"ail_or\")\n",
        "ail_or_xnor_dup_model = MLP(in_channels=784, out_channels=10, n_layer=2, actfun = 'ail_or_xnor_dup')"
      ],
      "metadata": {
        "id": "SlbeIVZKszfs"
      },
      "execution_count": 21,
      "outputs": []
    },
    {
      "cell_type": "markdown",
      "source": [
        "## Show the model summary"
      ],
      "metadata": {
        "id": "lblHEkI123fM"
      }
    },
    {
      "cell_type": "code",
      "source": [
        "batch_size = 512\n",
        "summary(ReLU_model, input_size=(batch_size, 1, 784))"
      ],
      "metadata": {
        "colab": {
          "base_uri": "https://localhost:8080/"
        },
        "id": "Qx0Ek2Nm9YvX",
        "outputId": "63866812-3d1f-48ad-abe2-e16af854ee25"
      },
      "execution_count": 27,
      "outputs": [
        {
          "output_type": "stream",
          "name": "stdout",
          "text": [
            "----------------------------------------------------------------\n",
            "        Layer (type)               Output Shape         Param #\n",
            "================================================================\n",
            "            Linear-1          [-1, 512, 1, 784]         615,440\n",
            "              ReLU-2          [-1, 512, 1, 784]               0\n",
            "            Linear-3          [-1, 512, 1, 784]         615,440\n",
            "              ReLU-4          [-1, 512, 1, 784]               0\n",
            "            Linear-5           [-1, 512, 1, 10]           7,850\n",
            "================================================================\n",
            "Total params: 1,238,730\n",
            "Trainable params: 1,238,730\n",
            "Non-trainable params: 0\n",
            "----------------------------------------------------------------\n",
            "Input size (MB): 1.53\n",
            "Forward/backward pass size (MB): 12.29\n",
            "Params size (MB): 4.73\n",
            "Estimated Total Size (MB): 18.55\n",
            "----------------------------------------------------------------\n"
          ]
        }
      ]
    },
    {
      "cell_type": "code",
      "source": [
        "train_loss_nail_or, valid_loss_nail_or, accs_nail_or = train(trainloader, validloader, nail_or_model, save_nail_or_path)\n",
        "train_loss_ail_xnor, valid_loss_ail_xnor, accs_ail_xnor = train(trainloader, validloader, ail_xnor_model, save_ail_xnor_path)\n",
        "train_loss_ReLU, valid_loss_ReLU, accs_ReLU = train(trainloader, validloader, ReLU_model, save_ReLU_path)\n",
        "train_loss_max, valid_loss_max, accs_max = train(trainloader, validloader, max_model, save_max_path)\n",
        "train_loss_ail_or, valid_loss_ail_or, accs_ail_or = train(trainloader, validloader, ail_or_model, save_ail_or_path)\n",
        "train_loss_ail_or_xnor_dup, valid_loss_ail_or_xnor_dup, accs_ail_or_xnor_dup = train(trainloader, validloader, ail_or_xnor_dup_model, save_ail_or_xnor_dup_path)"
      ],
      "metadata": {
        "colab": {
          "base_uri": "https://localhost:8080/"
        },
        "id": "y9n-R1Lw6osp",
        "outputId": "9523585c-b463-4125-94d8-eb7fac242b5a"
      },
      "execution_count": 64,
      "outputs": [
        {
          "output_type": "stream",
          "name": "stderr",
          "text": [
            "Epoch[1/10]: 100%|██████████| 165/165 [00:14<00:00, 11.66it/s, loss=0.0781]\n",
            "100%|██████████| 40/40 [00:02<00:00, 14.33it/s]\n"
          ]
        },
        {
          "output_type": "stream",
          "name": "stdout",
          "text": [
            "Epoch [1/10]: Train loss: 0.3634, Valid loss: 0.1792\n"
          ]
        },
        {
          "output_type": "stream",
          "name": "stderr",
          "text": [
            "Epoch[2/10]: 100%|██████████| 165/165 [00:20<00:00,  8.13it/s, loss=0.0298]\n",
            "100%|██████████| 40/40 [00:01<00:00, 21.28it/s]\n",
            "Epoch[3/10]: 100%|██████████| 165/165 [00:13<00:00, 11.81it/s, loss=0.0226]\n",
            "100%|██████████| 40/40 [00:01<00:00, 21.67it/s]\n",
            "Epoch[4/10]: 100%|██████████| 165/165 [00:17<00:00,  9.66it/s, loss=0.0108]\n",
            "100%|██████████| 40/40 [00:02<00:00, 14.98it/s]\n",
            "Epoch[5/10]: 100%|██████████| 165/165 [00:16<00:00,  9.94it/s, loss=0.0188]\n",
            "100%|██████████| 40/40 [00:03<00:00, 12.66it/s]\n",
            "Epoch[6/10]: 100%|██████████| 165/165 [00:15<00:00, 10.90it/s, loss=0.0416]\n",
            "100%|██████████| 40/40 [00:01<00:00, 21.34it/s]\n"
          ]
        },
        {
          "output_type": "stream",
          "name": "stdout",
          "text": [
            "Epoch [6/10]: Train loss: 0.1199, Valid loss: 0.1195\n"
          ]
        },
        {
          "output_type": "stream",
          "name": "stderr",
          "text": [
            "Epoch[7/10]: 100%|██████████| 165/165 [00:19<00:00,  8.64it/s, loss=0.00831]\n",
            "100%|██████████| 40/40 [00:02<00:00, 17.50it/s]\n",
            "Epoch[8/10]: 100%|██████████| 165/165 [00:16<00:00, 10.25it/s, loss=0.332]\n",
            "100%|██████████| 40/40 [00:02<00:00, 15.58it/s]\n",
            "Epoch[9/10]: 100%|██████████| 165/165 [00:16<00:00, 10.30it/s, loss=0.00712]\n",
            "100%|██████████| 40/40 [00:04<00:00,  8.66it/s]\n",
            "Epoch[10/10]: 100%|██████████| 165/165 [00:15<00:00, 10.71it/s, loss=0.000523]\n",
            "100%|██████████| 40/40 [00:03<00:00, 11.82it/s]\n",
            "Epoch[1/10]: 100%|██████████| 165/165 [00:13<00:00, 11.95it/s, loss=0.0719]\n",
            "100%|██████████| 40/40 [00:01<00:00, 22.32it/s]\n"
          ]
        },
        {
          "output_type": "stream",
          "name": "stdout",
          "text": [
            "Epoch [1/10]: Train loss: 0.3226, Valid loss: 0.1345\n"
          ]
        },
        {
          "output_type": "stream",
          "name": "stderr",
          "text": [
            "Epoch[2/10]: 100%|██████████| 165/165 [00:15<00:00, 10.99it/s, loss=0.0131]\n",
            "100%|██████████| 40/40 [00:03<00:00, 10.83it/s]\n",
            "Epoch[3/10]: 100%|██████████| 165/165 [00:17<00:00,  9.31it/s, loss=0.0248]\n",
            "100%|██████████| 40/40 [00:02<00:00, 14.06it/s]\n",
            "Epoch[4/10]: 100%|██████████| 165/165 [00:15<00:00, 10.75it/s, loss=0.186]\n",
            "100%|██████████| 40/40 [00:03<00:00, 11.00it/s]\n",
            "Epoch[5/10]: 100%|██████████| 165/165 [00:18<00:00,  8.81it/s, loss=0.0821]\n",
            "100%|██████████| 40/40 [00:01<00:00, 22.34it/s]\n",
            "Epoch[6/10]: 100%|██████████| 165/165 [00:13<00:00, 12.61it/s, loss=0.000689]\n",
            "100%|██████████| 40/40 [00:01<00:00, 22.32it/s]\n"
          ]
        },
        {
          "output_type": "stream",
          "name": "stdout",
          "text": [
            "Epoch [6/10]: Train loss: 0.0917, Valid loss: 0.0994\n"
          ]
        },
        {
          "output_type": "stream",
          "name": "stderr",
          "text": [
            "Epoch[7/10]: 100%|██████████| 165/165 [00:13<00:00, 12.65it/s, loss=0.000814]\n",
            "100%|██████████| 40/40 [00:01<00:00, 22.15it/s]\n",
            "Epoch[8/10]: 100%|██████████| 165/165 [00:15<00:00, 10.79it/s, loss=2.93e-5]\n",
            "100%|██████████| 40/40 [00:01<00:00, 22.46it/s]\n",
            "Epoch[9/10]: 100%|██████████| 165/165 [00:13<00:00, 12.56it/s, loss=0.000168]\n",
            "100%|██████████| 40/40 [00:02<00:00, 13.66it/s]\n",
            "Epoch[10/10]: 100%|██████████| 165/165 [00:12<00:00, 13.11it/s, loss=0.0067]\n",
            "100%|██████████| 40/40 [00:01<00:00, 22.39it/s]\n",
            "Epoch[1/10]: 100%|██████████| 165/165 [00:15<00:00, 10.41it/s, loss=0.143]\n",
            "100%|██████████| 40/40 [00:01<00:00, 22.95it/s]\n"
          ]
        },
        {
          "output_type": "stream",
          "name": "stdout",
          "text": [
            "Epoch [1/10]: Train loss: 0.3591, Valid loss: 0.1904\n"
          ]
        },
        {
          "output_type": "stream",
          "name": "stderr",
          "text": [
            "Epoch[2/10]: 100%|██████████| 165/165 [00:13<00:00, 12.18it/s, loss=0.00437]\n",
            "100%|██████████| 40/40 [00:01<00:00, 22.70it/s]\n",
            "Epoch[3/10]: 100%|██████████| 165/165 [00:13<00:00, 12.23it/s, loss=0.0094]\n",
            "100%|██████████| 40/40 [00:02<00:00, 13.59it/s]\n",
            "Epoch[4/10]: 100%|██████████| 165/165 [00:14<00:00, 11.13it/s, loss=0.15]\n",
            "100%|██████████| 40/40 [00:02<00:00, 13.77it/s]\n",
            "Epoch[5/10]: 100%|██████████| 165/165 [00:14<00:00, 11.26it/s, loss=0.014]\n",
            "100%|██████████| 40/40 [00:02<00:00, 18.86it/s]\n",
            "Epoch[6/10]: 100%|██████████| 165/165 [00:15<00:00, 10.48it/s, loss=0.0962]\n",
            "100%|██████████| 40/40 [00:01<00:00, 20.24it/s]\n"
          ]
        },
        {
          "output_type": "stream",
          "name": "stdout",
          "text": [
            "Epoch [6/10]: Train loss: 0.1141, Valid loss: 0.1133\n"
          ]
        },
        {
          "output_type": "stream",
          "name": "stderr",
          "text": [
            "Epoch[7/10]: 100%|██████████| 165/165 [00:15<00:00, 10.55it/s, loss=0.00315]\n",
            "100%|██████████| 40/40 [00:01<00:00, 22.66it/s]\n",
            "Epoch[8/10]: 100%|██████████| 165/165 [00:13<00:00, 12.04it/s, loss=0.00632]\n",
            "100%|██████████| 40/40 [00:01<00:00, 22.80it/s]\n",
            "Epoch[9/10]: 100%|██████████| 165/165 [00:13<00:00, 12.09it/s, loss=3.84e-5]\n",
            "100%|██████████| 40/40 [00:02<00:00, 13.77it/s]\n",
            "Epoch[10/10]: 100%|██████████| 165/165 [00:15<00:00, 10.76it/s, loss=0.00102]\n",
            "100%|██████████| 40/40 [00:01<00:00, 22.82it/s]\n",
            "Epoch[1/10]: 100%|██████████| 165/165 [00:12<00:00, 12.77it/s, loss=0.0329]\n",
            "100%|██████████| 40/40 [00:01<00:00, 23.09it/s]\n"
          ]
        },
        {
          "output_type": "stream",
          "name": "stdout",
          "text": [
            "Epoch [1/10]: Train loss: 0.3279, Valid loss: 0.1456\n"
          ]
        },
        {
          "output_type": "stream",
          "name": "stderr",
          "text": [
            "Epoch[2/10]: 100%|██████████| 165/165 [00:12<00:00, 12.91it/s, loss=0.00856]\n",
            "100%|██████████| 40/40 [00:01<00:00, 22.65it/s]\n",
            "Epoch[3/10]: 100%|██████████| 165/165 [00:13<00:00, 12.02it/s, loss=0.00447]\n",
            "100%|██████████| 40/40 [00:02<00:00, 14.30it/s]\n",
            "Epoch[4/10]: 100%|██████████| 165/165 [00:11<00:00, 14.71it/s, loss=0.00084]\n",
            "100%|██████████| 40/40 [00:01<00:00, 22.94it/s]\n",
            "Epoch[5/10]: 100%|██████████| 165/165 [00:12<00:00, 12.85it/s, loss=0.00367]\n",
            "100%|██████████| 40/40 [00:01<00:00, 22.95it/s]\n",
            "Epoch[6/10]: 100%|██████████| 165/165 [00:12<00:00, 12.93it/s, loss=0.000965]\n",
            "100%|██████████| 40/40 [00:01<00:00, 23.24it/s]\n"
          ]
        },
        {
          "output_type": "stream",
          "name": "stdout",
          "text": [
            "Epoch [6/10]: Train loss: 0.0997, Valid loss: 0.1134\n"
          ]
        },
        {
          "output_type": "stream",
          "name": "stderr",
          "text": [
            "Epoch[7/10]: 100%|██████████| 165/165 [00:14<00:00, 11.11it/s, loss=0.00188]\n",
            "100%|██████████| 40/40 [00:02<00:00, 15.86it/s]\n",
            "Epoch[8/10]: 100%|██████████| 165/165 [00:12<00:00, 13.38it/s, loss=0.0128]\n",
            "100%|██████████| 40/40 [00:02<00:00, 15.36it/s]\n",
            "Epoch[9/10]: 100%|██████████| 165/165 [00:11<00:00, 14.34it/s, loss=0.102]\n",
            "100%|██████████| 40/40 [00:01<00:00, 22.52it/s]\n",
            "Epoch[10/10]: 100%|██████████| 165/165 [00:14<00:00, 11.03it/s, loss=0.264]\n",
            "100%|██████████| 40/40 [00:01<00:00, 23.16it/s]\n",
            "Epoch[1/10]: 100%|██████████| 165/165 [00:13<00:00, 11.91it/s, loss=0.176]\n",
            "100%|██████████| 40/40 [00:01<00:00, 22.09it/s]\n"
          ]
        },
        {
          "output_type": "stream",
          "name": "stdout",
          "text": [
            "Epoch [1/10]: Train loss: 0.3293, Valid loss: 0.1767\n"
          ]
        },
        {
          "output_type": "stream",
          "name": "stderr",
          "text": [
            "Epoch[2/10]: 100%|██████████| 165/165 [00:13<00:00, 11.94it/s, loss=0.0474]\n",
            "100%|██████████| 40/40 [00:02<00:00, 13.79it/s]\n",
            "Epoch[3/10]: 100%|██████████| 165/165 [00:15<00:00, 10.54it/s, loss=0.105]\n",
            "100%|██████████| 40/40 [00:01<00:00, 22.05it/s]\n",
            "Epoch[4/10]: 100%|██████████| 165/165 [00:13<00:00, 12.01it/s, loss=0.0534]\n",
            "100%|██████████| 40/40 [00:01<00:00, 22.15it/s]\n",
            "Epoch[5/10]: 100%|██████████| 165/165 [00:13<00:00, 11.89it/s, loss=0.012]\n",
            "100%|██████████| 40/40 [00:02<00:00, 19.83it/s]\n",
            "Epoch[6/10]: 100%|██████████| 165/165 [00:14<00:00, 11.38it/s, loss=0.0037]\n",
            "100%|██████████| 40/40 [00:02<00:00, 17.27it/s]\n"
          ]
        },
        {
          "output_type": "stream",
          "name": "stdout",
          "text": [
            "Epoch [6/10]: Train loss: 0.1073, Valid loss: 0.1158\n"
          ]
        },
        {
          "output_type": "stream",
          "name": "stderr",
          "text": [
            "Epoch[7/10]: 100%|██████████| 165/165 [00:13<00:00, 12.09it/s, loss=0.00906]\n",
            "100%|██████████| 40/40 [00:01<00:00, 21.87it/s]\n",
            "Epoch[8/10]: 100%|██████████| 165/165 [00:13<00:00, 11.96it/s, loss=0.132]\n",
            "100%|██████████| 40/40 [00:01<00:00, 21.72it/s]\n",
            "Epoch[9/10]: 100%|██████████| 165/165 [00:14<00:00, 11.71it/s, loss=0.00166]\n",
            "100%|██████████| 40/40 [00:02<00:00, 13.37it/s]\n",
            "Epoch[10/10]: 100%|██████████| 165/165 [00:14<00:00, 11.26it/s, loss=0.00658]\n",
            "100%|██████████| 40/40 [00:01<00:00, 21.82it/s]\n",
            "Epoch[1/10]: 100%|██████████| 165/165 [00:16<00:00, 10.25it/s, loss=0.0114]\n",
            "100%|██████████| 40/40 [00:02<00:00, 19.48it/s]\n"
          ]
        },
        {
          "output_type": "stream",
          "name": "stdout",
          "text": [
            "Epoch [1/10]: Train loss: 0.2763, Valid loss: 0.1179\n"
          ]
        },
        {
          "output_type": "stream",
          "name": "stderr",
          "text": [
            "Epoch[2/10]: 100%|██████████| 165/165 [00:19<00:00,  8.42it/s, loss=0.0303]\n",
            "100%|██████████| 40/40 [00:02<00:00, 19.82it/s]\n",
            "Epoch[3/10]: 100%|██████████| 165/165 [00:16<00:00, 10.27it/s, loss=0.218]\n",
            "100%|██████████| 40/40 [00:02<00:00, 16.22it/s]\n",
            "Epoch[4/10]: 100%|██████████| 165/165 [00:16<00:00, 10.06it/s, loss=0.0335]\n",
            "100%|██████████| 40/40 [00:02<00:00, 19.54it/s]\n",
            "Epoch[5/10]: 100%|██████████| 165/165 [00:18<00:00,  9.13it/s, loss=0.000337]\n",
            "100%|██████████| 40/40 [00:03<00:00, 12.54it/s]\n",
            "Epoch[6/10]: 100%|██████████| 165/165 [00:16<00:00, 10.01it/s, loss=0.000779]\n",
            "100%|██████████| 40/40 [00:02<00:00, 19.88it/s]\n"
          ]
        },
        {
          "output_type": "stream",
          "name": "stdout",
          "text": [
            "Epoch [6/10]: Train loss: 0.0880, Valid loss: 0.1140\n"
          ]
        },
        {
          "output_type": "stream",
          "name": "stderr",
          "text": [
            "Epoch[7/10]: 100%|██████████| 165/165 [00:16<00:00, 10.27it/s, loss=0.00111]\n",
            "100%|██████████| 40/40 [00:03<00:00, 11.53it/s]\n",
            "Epoch[8/10]: 100%|██████████| 165/165 [00:16<00:00, 10.15it/s, loss=0.000502]\n",
            "100%|██████████| 40/40 [00:02<00:00, 19.97it/s]\n",
            "Epoch[9/10]: 100%|██████████| 165/165 [00:15<00:00, 10.32it/s, loss=0.179]\n",
            "100%|██████████| 40/40 [00:03<00:00, 11.91it/s]\n",
            "Epoch[10/10]: 100%|██████████| 165/165 [00:18<00:00,  8.92it/s, loss=0.124]\n",
            "100%|██████████| 40/40 [00:02<00:00, 19.72it/s]\n"
          ]
        }
      ]
    },
    {
      "cell_type": "markdown",
      "source": [
        "## Comparison"
      ],
      "metadata": {
        "id": "N39dBS36FWHh"
      }
    },
    {
      "cell_type": "code",
      "source": [
        "fig, ax = plt.subplots()\n",
        "x_epoch = np.arange(len(train_loss_nail_or))\n",
        "ax.plot(x_epoch, train_loss_nail_or, label = 'nail_or')\n",
        "ax.plot(x_epoch, train_loss_ReLU, label = 'ReLU')\n",
        "ax.plot(x_epoch, train_loss_ail_xnor, label = 'ail_xnor')\n",
        "\n",
        "ax.plot(x_epoch, train_loss_max, label = 'max')\n",
        "ax.plot(x_epoch, train_loss_ail_or, label = 'ail_or')\n",
        "ax.plot(x_epoch, train_loss_ail_or_xnor_dup, label = 'ail_or_xnor_dup')\n",
        "\n",
        "ax.set_xlabel('epochs') \n",
        "ax.set_ylabel('loss')\n",
        "ax.legend() \n",
        "plt.show() "
      ],
      "metadata": {
        "colab": {
          "base_uri": "https://localhost:8080/",
          "height": 279
        },
        "id": "DFmt5KFhn38e",
        "outputId": "73812ee5-c81c-477d-f43f-54e242b5388b"
      },
      "execution_count": 65,
      "outputs": [
        {
          "output_type": "display_data",
          "data": {
            "text/plain": [
              "<Figure size 432x288 with 1 Axes>"
            ],
            "image/png": "[encoded data removed]"
          },
          "metadata": {
            "needs_background": "light"
          }
        }
      ]
    },
    {
      "cell_type": "code",
      "source": [
        "fig, ax = plt.subplots()\n",
        "x_epoch = np.arange(len(accs_ReLU))\n",
        "ax.plot(x_epoch, accs_nail_or, label = 'nail_or')\n",
        "ax.plot(x_epoch, accs_ReLU, label = 'ReLU')\n",
        "ax.plot(x_epoch, accs_ail_xnor, label = 'ail_xnor')\n",
        "\n",
        "ax.plot(x_epoch, accs_max, label = 'max')\n",
        "ax.plot(x_epoch, accs_ail_or, label = 'ail_or')\n",
        "ax.plot(x_epoch, accs_ail_or_xnor_dup, label = 'ail_or_xnor_dup')\n",
        "ax.set_xlabel('epochs') \n",
        "ax.set_ylabel('test accuracy')\n",
        "ax.legend() \n",
        "plt.show() "
      ],
      "metadata": {
        "id": "J-kOhsszBq2U",
        "colab": {
          "base_uri": "https://localhost:8080/",
          "height": 279
        },
        "outputId": "566e92a7-f460-416f-be59-54e293e42a3f"
      },
      "execution_count": 67,
      "outputs": [
        {
          "output_type": "display_data",
          "data": {
            "text/plain": [
              "<Figure size 432x288 with 1 Axes>"
            ],
            "image/png": "[encoded data removed]"
          },
          "metadata": {
            "needs_background": "light"
          }
        }
      ]
    },
    {
      "cell_type": "code",
      "source": [
        "fig, ax = plt.subplots()\n",
        "x_epoch = np.arange(7)\n",
        "ax.plot(x_epoch, accs_nail_or[:7], label = 'nail_or')\n",
        "ax.plot(x_epoch, accs_ReLU[:7], label = 'ReLU')\n",
        "ax.plot(x_epoch, accs_ail_xnor[:7], label = 'ail_xnor')\n",
        "\n",
        "ax.plot(x_epoch, accs_max[:7], label = 'max')\n",
        "ax.plot(x_epoch, accs_ail_or[:7], label = 'ail_or')\n",
        "ax.plot(x_epoch, accs_ail_or_xnor_dup[:7], label = 'ail_or_xnor_dup')\n",
        "ax.set_xlabel('epochs') \n",
        "ax.set_ylabel('test accuracy')\n",
        "ax.legend() \n",
        "plt.show() "
      ],
      "metadata": {
        "colab": {
          "base_uri": "https://localhost:8080/",
          "height": 279
        },
        "id": "6qFeLtd3Z-Hz",
        "outputId": "1b7da595-a139-40dc-e4c9-7fb507c77a10"
      },
      "execution_count": 69,
      "outputs": [
        {
          "output_type": "display_data",
          "data": {
            "text/plain": [
              "<Figure size 432x288 with 1 Axes>"
            ],
            "image/png": "[encoded data removed]"
          },
          "metadata": {
            "needs_background": "light"
          }
        }
      ]
    },
    {
      "cell_type": "code",
      "source": [],
      "metadata": {
        "id": "NdLfI8d52Svn"
      },
      "execution_count": null,
      "outputs": []
    }
  ]
}